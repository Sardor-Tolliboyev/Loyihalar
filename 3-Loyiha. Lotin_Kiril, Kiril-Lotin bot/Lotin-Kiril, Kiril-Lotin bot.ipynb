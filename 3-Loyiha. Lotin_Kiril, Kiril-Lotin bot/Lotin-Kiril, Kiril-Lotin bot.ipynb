{
 "cells": [
  {
   "cell_type": "code",
   "execution_count": null,
   "id": "dd8d4194-bebb-4de4-9dd4-59b54e1c3232",
   "metadata": {},
   "outputs": [],
   "source": [
    "import telebot\n",
    "from transliterate import to_cyrillic, to_latin\n",
    "\n",
    "Token = \"7808637193:AAGzwVLCyZ-6No1nbX6MLYuHv5_Q4fUStDQ\"\n",
    "bot = telebot.TeleBot(Token, parse_mode=None)  \n",
    "\n",
    "@bot.message_handler(commands=['start'])\n",
    "def sen_welcome(message):\n",
    "    javob = \"Assalomu alaykum, Xush kelibsiz!\"\n",
    "    javob += \"\\nMatn kiriting:\"\n",
    "    bot.reply_to(message, javob)\n",
    "\n",
    "@bot.message_handler(func = lambda message: True)\n",
    "def echo_all(message):\n",
    "    msg = message.text\n",
    "    if msg.isascii():\n",
    "        javob = to_cyrillic(msg)\n",
    "    else:\n",
    "        javob = to_latin(msg)\n",
    "    bot.reply_to(message, javob)\n",
    "\n",
    "bot.polling()"
   ]
  },
  {
   "cell_type": "code",
   "execution_count": null,
   "id": "0032c413-f51f-4dc6-a16e-5ad9835b8771",
   "metadata": {},
   "outputs": [],
   "source": []
  }
 ],
 "metadata": {
  "kernelspec": {
   "display_name": "Python 3 (ipykernel)",
   "language": "python",
   "name": "python3"
  },
  "language_info": {
   "codemirror_mode": {
    "name": "ipython",
    "version": 3
   },
   "file_extension": ".py",
   "mimetype": "text/x-python",
   "name": "python",
   "nbconvert_exporter": "python",
   "pygments_lexer": "ipython3",
   "version": "3.12.1"
  }
 },
 "nbformat": 4,
 "nbformat_minor": 5
}
